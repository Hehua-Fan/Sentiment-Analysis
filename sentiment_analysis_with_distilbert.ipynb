{
 "cells": [
  {
   "cell_type": "code",
   "execution_count": 1,
   "metadata": {},
   "outputs": [],
   "source": [
    "# Load Data and Configuration\n",
    "texts = ['today is not that bad',\n",
    "         'today is so bad',\n",
    "         'so good tonight']\n",
    "model_name = 'distilbert/distilbert-base-uncased-finetuned-sst-2-english'"
   ]
  },
  {
   "cell_type": "code",
   "execution_count": 2,
   "metadata": {},
   "outputs": [],
   "source": [
    "# Instantiation\n",
    "from transformers import AutoTokenizer, AutoModelForSequenceClassification\n",
    "\n",
    "tokenizer = AutoTokenizer.from_pretrained(model_name)\n",
    "model = AutoModelForSequenceClassification.from_pretrained(model_name)"
   ]
  },
  {
   "cell_type": "code",
   "execution_count": 3,
   "metadata": {},
   "outputs": [
    {
     "data": {
      "text/plain": [
       "\"\\n{'input_ids': tensor([[ 101, 2651, 2003, 2025, 2008, 2919,  102],\\n                      [ 101, 2651, 2003, 2061, 2919,  102,    0],\\n                      [ 101, 2061, 2204, 3892,  102,    0,    0]]), \\n 'attention_mask': tensor([[1, 1, 1, 1, 1, 1, 1],\\n                           [1, 1, 1, 1, 1, 1, 0],\\n                           [1, 1, 1, 1, 1, 0, 0]])}\\n\""
      ]
     },
     "execution_count": 3,
     "metadata": {},
     "output_type": "execute_result"
    }
   ],
   "source": [
    "# Tokenizer\n",
    "batch_input = tokenizer(texts, truncation=True, padding=True, return_tensors='pt')\n",
    "'''\n",
    "{'input_ids': tensor([[ 101, 2651, 2003, 2025, 2008, 2919,  102],\n",
    "                      [ 101, 2651, 2003, 2061, 2919,  102,    0],\n",
    "                      [ 101, 2061, 2204, 3892,  102,    0,    0]]), \n",
    " 'attention_mask': tensor([[1, 1, 1, 1, 1, 1, 1],\n",
    "                           [1, 1, 1, 1, 1, 1, 0],\n",
    "                           [1, 1, 1, 1, 1, 0, 0]])}\n",
    "'''"
   ]
  },
  {
   "cell_type": "code",
   "execution_count": 4,
   "metadata": {},
   "outputs": [],
   "source": [
    "# Model\n",
    "import numpy as np\n",
    "import pandas as pd\n",
    "import torch\n",
    "import torch.nn.functional as F\n",
    "\n",
    "with torch.no_grad():\n",
    "    outputs = model(**batch_input) # SequenceClassifierOutput(loss=None, logits=tensor([[ 0.2347, -0.1015],[ 0.1364, -0.3081],[ 0.0071, -0.4359]], grad_fn=<AddmmBackward0>), hidden_states=None, attentions=None)\n",
    "    logits = outputs.logits # tensor([[-3.4620,  3.6118],[ 4.7508, -3.7899],[-4.2113,  4.5724]])\n",
    "    scores = F.softmax(logits, dim=-1) # tensor([[8.4632e-04, 9.9915e-01],[9.9980e-01, 1.9531e-04],[1.5318e-04, 9.9985e-01]])\n",
    "    labels_ids = torch.argmax(scores, dim=-1) # tensor([1, 0, 1])\n",
    "    labels = [model.config.id2label[id] for id in labels_ids.tolist()] # ['POSITIVE', 'NEGATIVE', 'POSITIVE']"
   ]
  },
  {
   "cell_type": "code",
   "execution_count": 6,
   "metadata": {},
   "outputs": [],
   "source": [
    "# Save\n",
    "target_cols = ['label']\n",
    "submission = pd.DataFrame(labels, columns=target_cols)\n",
    "submission.to_csv('submission.csv', index=False)"
   ]
  }
 ],
 "metadata": {
  "kernelspec": {
   "display_name": "PyTorch",
   "language": "python",
   "name": "python3"
  },
  "language_info": {
   "codemirror_mode": {
    "name": "ipython",
    "version": 3
   },
   "file_extension": ".py",
   "mimetype": "text/x-python",
   "name": "python",
   "nbconvert_exporter": "python",
   "pygments_lexer": "ipython3",
   "version": "3.9.16"
  }
 },
 "nbformat": 4,
 "nbformat_minor": 2
}
